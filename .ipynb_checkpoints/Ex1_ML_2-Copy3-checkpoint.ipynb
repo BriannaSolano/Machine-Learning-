{
 "cells": [
  {
   "cell_type": "code",
   "execution_count": 1,
   "id": "03674dd4",
   "metadata": {},
   "outputs": [],
   "source": [
    "import numpy as np\n",
    "import pandas as pd\n",
    "import matplotlib.pyplot as plt"
   ]
  },
  {
   "cell_type": "code",
   "execution_count": 2,
   "id": "91c257c8",
   "metadata": {},
   "outputs": [],
   "source": [
    "df_data = pd.read_csv('exercise1_data.csv')"
   ]
  },
  {
   "cell_type": "code",
   "execution_count": 3,
   "id": "ba09fe2d",
   "metadata": {},
   "outputs": [],
   "source": [
    "X = df_data[['X1','X2','X3','X4']].to_numpy()\n",
    "Y = df_data['Y'].to_numpy()\n",
    "Y = np.expand_dims(Y,axis=1)"
   ]
  },
  {
   "cell_type": "code",
   "execution_count": 4,
   "id": "7e362e3e",
   "metadata": {},
   "outputs": [
    {
     "name": "stdout",
     "output_type": "stream",
     "text": [
      "The value of m is  1000\n"
     ]
    }
   ],
   "source": [
    "#a\n",
    "#What is the value of m?\n",
    "print(\"The value of m is \", X.shape[0])\n",
    "m = X.shape[0]\n",
    "#The value of m is 1000, therefore there are 1000 smaples"
   ]
  },
  {
   "cell_type": "code",
   "execution_count": 5,
   "id": "b6cd70c9",
   "metadata": {},
   "outputs": [
    {
     "name": "stdout",
     "output_type": "stream",
     "text": [
      "[[ 1.13628767  0.67075584 -0.31658534 -1.75585788]\n",
      " [ 1.85603065  1.93540733 -0.48997094 -0.38728799]\n",
      " [-0.85757989 -0.79313091 -1.29775941  1.47715056]\n",
      " ...\n",
      " [ 0.46581094  0.73576916 -0.29699876 -0.36531577]\n",
      " [-0.12599579  2.23115351  0.27964412 -0.65317185]\n",
      " [-1.26156445  0.84245211 -0.08320848  0.01189734]]\n"
     ]
    }
   ],
   "source": [
    "print(X)"
   ]
  },
  {
   "cell_type": "code",
   "execution_count": 6,
   "id": "fd68829c",
   "metadata": {},
   "outputs": [
    {
     "name": "stdout",
     "output_type": "stream",
     "text": [
      "[[ 1.          1.13628767  0.67075584 -0.31658534 -1.75585788]\n",
      " [ 1.          1.85603065  1.93540733 -0.48997094 -0.38728799]\n",
      " [ 1.         -0.85757989 -0.79313091 -1.29775941  1.47715056]\n",
      " ...\n",
      " [ 1.          0.46581094  0.73576916 -0.29699876 -0.36531577]\n",
      " [ 1.         -0.12599579  2.23115351  0.27964412 -0.65317185]\n",
      " [ 1.         -1.26156445  0.84245211 -0.08320848  0.01189734]]\n"
     ]
    }
   ],
   "source": [
    "#a\n",
    "#Append the input data matrix to include an all-one column. Explain why this is necessary.\n",
    "ones = np.ones((1000, 1))\n",
    "X = np.concatenate((ones, X), axis=1)\n",
    "print(X)\n",
    "#By including an all-one column, we can simplify the derivations and represention of the parametrs.\n",
    "#Instead of having an intercept, we can simply expand the dimensions of the input features to include a dummy feature of 1\n",
    "#This helps us create a matrix where we can execute matrix multiplcation easily\n"
   ]
  },
  {
   "cell_type": "code",
   "execution_count": 7,
   "id": "d2d3ed36",
   "metadata": {},
   "outputs": [
    {
     "data": {
      "text/plain": [
       "array([ 1.        ,  1.13628767,  0.67075584, -0.31658534, -1.75585788])"
      ]
     },
     "execution_count": 7,
     "metadata": {},
     "output_type": "execute_result"
    }
   ],
   "source": [
    "X[0]"
   ]
  },
  {
   "cell_type": "code",
   "execution_count": 24,
   "id": "9669d671",
   "metadata": {},
   "outputs": [
    {
     "name": "stdout",
     "output_type": "stream",
     "text": [
      "Final Coefficients [  3.42839607  18.2621762    1.05580082   4.83614072 -14.7968518 ]\n",
      "[-12.49538691]\n",
      "-25.84845786542372\n"
     ]
    },
    {
     "data": {
      "text/plain": [
       "[<matplotlib.lines.Line2D at 0x25857b8f610>]"
      ]
     },
     "execution_count": 24,
     "metadata": {},
     "output_type": "execute_result"
    },
    {
     "data": {
      "image/png": "[encoded data removed]",
      "text/plain": [
       "<Figure size 432x288 with 1 Axes>"
      ]
     },
     "metadata": {
      "needs_background": "light"
     },
     "output_type": "display_data"
    }
   ],
   "source": [
    "def costFun(theta,X,Y):\n",
    "    prediction = X.dot(theta)\n",
    "    J = (1/(2*m))*(np.square(np.sum(prediction-Y)))\n",
    "    return J\n",
    "\n",
    "T = 1000\n",
    "alpha = 0.1/m\n",
    "theta = np.zeros([5,1])\n",
    "cost_history = np.zeros(T)\n",
    "sumation = 0\n",
    "for i in range(T):\n",
    "    #sumation = 0\n",
    "    for j in range(m):\n",
    "        sumation = sumation + ((theta.T.dot(X[j]) - Y[j])*X[j])    \n",
    "    GradientCost = sumation/m\n",
    "    theta = theta - alpha*GradientCost\n",
    "    value = costFun(theta,X,Y)\n",
    "    cost_history[i] = value\n",
    "\n",
    "print(\"Final Coefficients = \", theta[0])\n",
    "print(Y[5])\n",
    "prediction = theta[0].T.dot(X[5]) \n",
    "print(prediction)\n",
    "plt.plot(cost_history)"
   ]
  },
  {
   "cell_type": "code",
   "execution_count": 23,
   "id": "cafd469a",
   "metadata": {},
   "outputs": [
    {
     "name": "stdout",
     "output_type": "stream",
     "text": [
      "[-12.49538691]\n",
      "-35.285020977440354\n"
     ]
    },
    {
     "data": {
      "text/plain": [
       "[<matplotlib.lines.Line2D at 0x25857b1edc0>]"
      ]
     },
     "execution_count": 23,
     "metadata": {},
     "output_type": "execute_result"
    },
    {
     "data": {
      "image/png": "[encoded data removed]",
      "text/plain": [
       "<Figure size 432x288 with 1 Axes>"
      ]
     },
     "metadata": {
      "needs_background": "light"
     },
     "output_type": "display_data"
    }
   ],
   "source": [
    "def costFun(theta,X,Y):\n",
    "    prediction = X.dot(theta)\n",
    "    J = (1/(2*m))*(np.square(np.sum(prediction-Y)))\n",
    "    return J\n",
    "\n",
    "T = 1000\n",
    "alpha = 0.01/m\n",
    "theta = np.zeros([5,1])\n",
    "cost_history = np.zeros(T)\n",
    "sumation = 0\n",
    "for i in range(T):\n",
    "    #sumation = 0\n",
    "    for j in range(m):\n",
    "        sumation = sumation + ((theta.T.dot(X[j]) - Y[j])*X[j])    \n",
    "    GradientCost = sumation/m\n",
    "    theta = theta - alpha*GradientCost\n",
    "    value = costFun(theta,X,Y)\n",
    "    cost_history[i] = value\n",
    "print(Y[5])\n",
    "prediction = theta[0].T.dot(X[5]) \n",
    "print(prediction)\n",
    "plt.plot(cost_history)"
   ]
  },
  {
   "cell_type": "code",
   "execution_count": null,
   "id": "9f68d964",
   "metadata": {},
   "outputs": [],
   "source": []
  },
  {
   "cell_type": "code",
   "execution_count": null,
   "id": "bc59b867",
   "metadata": {},
   "outputs": [],
   "source": []
  },
  {
   "cell_type": "code",
   "execution_count": null,
   "id": "d6aae878",
   "metadata": {},
   "outputs": [],
   "source": []
  }
 ],
 "metadata": {
  "kernelspec": {
   "display_name": "Python 3 (ipykernel)",
   "language": "python",
   "name": "python3"
  },
  "language_info": {
   "codemirror_mode": {
    "name": "ipython",
    "version": 3
   },
   "file_extension": ".py",
   "mimetype": "text/x-python",
   "name": "python",
   "nbconvert_exporter": "python",
   "pygments_lexer": "ipython3",
   "version": "3.9.7"
  }
 },
 "nbformat": 4,
 "nbformat_minor": 5
}
