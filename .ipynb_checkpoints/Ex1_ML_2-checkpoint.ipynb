{
 "cells": [
  {
   "cell_type": "code",
   "execution_count": null,
   "id": "03674dd4",
   "metadata": {},
   "outputs": [],
   "source": [
    "import numpy as np\n",
    "import pandas as pd\n",
    "import matplotlib.pyplot as plt"
   ]
  },
  {
   "cell_type": "code",
   "execution_count": null,
   "id": "91c257c8",
   "metadata": {},
   "outputs": [],
   "source": [
    "df_data = pd.read_csv('exercise1_data.csv')"
   ]
  },
  {
   "cell_type": "code",
   "execution_count": null,
   "id": "ba09fe2d",
   "metadata": {},
   "outputs": [],
   "source": [
    "X = df_data[['X1','X2','X3','X4']].to_numpy()\n",
    "Y = df_data['Y'].to_numpy()\n",
    "Y = np.expand_dims(Y,axis=1)"
   ]
  },
  {
   "cell_type": "code",
   "execution_count": null,
   "id": "7e362e3e",
   "metadata": {},
   "outputs": [],
   "source": [
    "#a\n",
    "#What is the value of m?\n",
    "print(\"The value of m is \", X.shape[0])\n",
    "m = X.shape[0]\n",
    "#The value of m is 1000, therefore there are 1000 smaples"
   ]
  },
  {
   "cell_type": "code",
   "execution_count": null,
   "id": "b6cd70c9",
   "metadata": {},
   "outputs": [],
   "source": [
    "print(X)"
   ]
  },
  {
   "cell_type": "code",
   "execution_count": null,
   "id": "fd68829c",
   "metadata": {},
   "outputs": [],
   "source": [
    "#a\n",
    "#Append the input data matrix to include an all-one column. Explain why this is necessary.\n",
    "ones = np.ones((1000, 1))\n",
    "X = np.concatenate((ones, X), axis=1)\n",
    "print(X)\n",
    "#Explain-----------------\n"
   ]
  },
  {
   "cell_type": "code",
   "execution_count": null,
   "id": "d2d3ed36",
   "metadata": {},
   "outputs": [],
   "source": [
    "X[0,0:5]"
   ]
  },
  {
   "cell_type": "code",
   "execution_count": null,
   "id": "9669d671",
   "metadata": {},
   "outputs": [],
   "source": [
    "T = 1000\n",
    "alpha = 0.1/m\n",
    "theta = np.zeros([4,1])\n",
    "for i in range(T):\n",
    "    for j in range(m):\n",
    "        print(m)\n",
    "        sum = (theta.T.dot(X[j][1:5]) - y[j])*X[j][1:5]\n",
    "        print(sum)\n",
    "    GradientCost = sum/m\n",
    "    theta = theta - alpha*GradientCost"
   ]
  },
  {
   "cell_type": "code",
   "execution_count": null,
   "id": "cafd469a",
   "metadata": {},
   "outputs": [],
   "source": []
  },
  {
   "cell_type": "code",
   "execution_count": null,
   "id": "9f68d964",
   "metadata": {},
   "outputs": [],
   "source": []
  }
 ],
 "metadata": {
  "kernelspec": {
   "display_name": "Python 3 (ipykernel)",
   "language": "python",
   "name": "python3"
  },
  "language_info": {
   "codemirror_mode": {
    "name": "ipython",
    "version": 3
   },
   "file_extension": ".py",
   "mimetype": "text/x-python",
   "name": "python",
   "nbconvert_exporter": "python",
   "pygments_lexer": "ipython3",
   "version": "3.9.7"
  }
 },
 "nbformat": 4,
 "nbformat_minor": 5
}
