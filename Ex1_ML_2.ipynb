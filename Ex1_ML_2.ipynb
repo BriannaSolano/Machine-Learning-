{
  "cells": [
    {
      "cell_type": "code",
      "execution_count": 1,
      "id": "03674dd4",
      "metadata": {
        "id": "03674dd4"
      },
      "outputs": [],
      "source": [
        "import numpy as np\n",
        "import pandas as pd\n",
        "import matplotlib.pyplot as plt"
      ]
    },
    {
      "cell_type": "code",
      "execution_count": 2,
      "id": "91c257c8",
      "metadata": {
        "id": "91c257c8"
      },
      "outputs": [],
      "source": [
        "df_data = pd.read_csv('exercise1_data.csv')"
      ]
    },
    {
      "cell_type": "code",
      "execution_count": 3,
      "id": "ba09fe2d",
      "metadata": {
        "id": "ba09fe2d"
      },
      "outputs": [],
      "source": [
        "X = df_data[['X1','X2','X3','X4']].to_numpy()\n",
        "Y = df_data['Y'].to_numpy()\n",
        "Y = np.expand_dims(Y,axis=1)"
      ]
    },
    {
      "cell_type": "code",
      "execution_count": 4,
      "id": "7e362e3e",
      "metadata": {
        "colab": {
          "base_uri": "https://localhost:8080/"
        },
        "id": "7e362e3e",
        "outputId": "3656a1a2-2346-4240-c829-6a6bdf593b19"
      },
      "outputs": [
        {
          "output_type": "stream",
          "name": "stdout",
          "text": [
            "The value of m is  1000\n"
          ]
        }
      ],
      "source": [
        "#a\n",
        "#What is the value of m?\n",
        "print(\"The value of m is \", X.shape[0])\n",
        "m = X.shape[0]\n",
        "#The value of m is 1000, therefore there are 1000 smaples"
      ]
    },
    {
      "cell_type": "code",
      "execution_count": 5,
      "id": "b6cd70c9",
      "metadata": {
        "colab": {
          "base_uri": "https://localhost:8080/"
        },
        "id": "b6cd70c9",
        "outputId": "69d233f9-2cfe-44de-942b-b56e1899de71"
      },
      "outputs": [
        {
          "output_type": "stream",
          "name": "stdout",
          "text": [
            "[[ 1.13628767  0.67075584 -0.31658534 -1.75585788]\n",
            " [ 1.85603065  1.93540733 -0.48997094 -0.38728799]\n",
            " [-0.85757989 -0.79313091 -1.29775941  1.47715056]\n",
            " ...\n",
            " [ 0.46581094  0.73576916 -0.29699876 -0.36531577]\n",
            " [-0.12599579  2.23115351  0.27964412 -0.65317185]\n",
            " [-1.26156445  0.84245211 -0.08320848  0.01189734]]\n"
          ]
        }
      ],
      "source": [
        "print(X)"
      ]
    },
    {
      "cell_type": "code",
      "execution_count": 6,
      "id": "fd68829c",
      "metadata": {
        "colab": {
          "base_uri": "https://localhost:8080/"
        },
        "id": "fd68829c",
        "outputId": "9d56e08c-19bc-4e92-a4e7-e8772efaa30f"
      },
      "outputs": [
        {
          "output_type": "stream",
          "name": "stdout",
          "text": [
            "[[ 1.          1.13628767  0.67075584 -0.31658534 -1.75585788]\n",
            " [ 1.          1.85603065  1.93540733 -0.48997094 -0.38728799]\n",
            " [ 1.         -0.85757989 -0.79313091 -1.29775941  1.47715056]\n",
            " ...\n",
            " [ 1.          0.46581094  0.73576916 -0.29699876 -0.36531577]\n",
            " [ 1.         -0.12599579  2.23115351  0.27964412 -0.65317185]\n",
            " [ 1.         -1.26156445  0.84245211 -0.08320848  0.01189734]]\n"
          ]
        }
      ],
      "source": [
        "#a\n",
        "#Append the input data matrix to include an all-one column. Explain why this is necessary.\n",
        "ones = np.ones((1000, 1))\n",
        "X = np.concatenate((ones, X), axis=1)\n",
        "print(X)\n",
        "#By including an all-one column, we can simplify the derivations and represention of the parametrs.\n",
        "#Instead of having an intercept, we can simply expand the dimensions of the input features to include a dummy feature of 1\n",
        "#This helps us create a matrix where we can execute matrix multiplcation easily\n"
      ]
    },
    {
      "cell_type": "code",
      "execution_count": 7,
      "id": "d2d3ed36",
      "metadata": {
        "colab": {
          "base_uri": "https://localhost:8080/"
        },
        "id": "d2d3ed36",
        "outputId": "2fde9ef1-284c-4eca-c7c2-82249384cc64"
      },
      "outputs": [
        {
          "output_type": "execute_result",
          "data": {
            "text/plain": [
              "array([ 1.        ,  1.13628767,  0.67075584, -0.31658534, -1.75585788])"
            ]
          },
          "metadata": {},
          "execution_count": 7
        }
      ],
      "source": [
        "X[0]"
      ]
    },
    {
      "cell_type": "code",
      "execution_count": 8,
      "id": "9669d671",
      "metadata": {
        "colab": {
          "base_uri": "https://localhost:8080/",
          "height": 347
        },
        "id": "9669d671",
        "outputId": "ea29251e-841d-4756-ea55-146a351a4e41"
      },
      "outputs": [
        {
          "output_type": "stream",
          "name": "stdout",
          "text": [
            "Final Coefficients =  [ 2.28073635 10.46616706  1.77015548  3.63823829 -9.3828428 ]\n",
            "[7.36193031]\n",
            "4.91839847484212\n"
          ]
        },
        {
          "output_type": "execute_result",
          "data": {
            "text/plain": [
              "[<matplotlib.lines.Line2D at 0x7fc05d5e3e50>]"
            ]
          },
          "metadata": {},
          "execution_count": 8
        },
        {
          "output_type": "display_data",
          "data": {
            "image/png": "[encoded data removed]",
            "text/plain": [
              "<Figure size 432x288 with 1 Axes>"
            ]
          },
          "metadata": {
            "needs_background": "light"
          }
        }
      ],
      "source": [
        "def costFun(theta,X,Y):\n",
        "    prediction = X.dot(theta)\n",
        "    J = np.square(np.sum(prediction-Y))\n",
        "    return J\n",
        "\n",
        "T = 1000\n",
        "alpha = 0.1/m\n",
        "theta = np.zeros([5,1])\n",
        "cost_history = np.zeros(T)\n",
        "sumation = 0\n",
        "for i in range(T):\n",
        "    sumation = 0\n",
        "    for j in range(m):\n",
        "        sumation = sumation + ((Y[j]-(theta.T.dot(X[j])))*X[j])    \n",
        "    GradientCost = sumation\n",
        "    theta = theta + alpha*GradientCost\n",
        "    value = costFun(theta,X,Y)\n",
        "    cost_history[i] = value\n",
        "\n",
        "print(\"Final Coefficients = \", theta[0])\n",
        "print(Y[60])\n",
        "prediction = theta[0].T.dot(X[60]) \n",
        "print(prediction)\n",
        "plt.plot(cost_history)"
      ]
    },
    {
      "cell_type": "code",
      "execution_count": 46,
      "id": "bc59b867",
      "metadata": {
        "colab": {
          "base_uri": "https://localhost:8080/",
          "height": 311
        },
        "id": "bc59b867",
        "outputId": "8dbd82f6-9a53-46f7-9d4f-67cb04c60b47"
      },
      "outputs": [
        {
          "output_type": "stream",
          "name": "stdout",
          "text": [
            "Final Coefficients =  [ 2.28073635 10.4658342   1.77015548  3.63819825 -9.38265574]\n"
          ]
        },
        {
          "output_type": "execute_result",
          "data": {
            "text/plain": [
              "[<matplotlib.lines.Line2D at 0x7fc05a456c10>]"
            ]
          },
          "metadata": {},
          "execution_count": 46
        },
        {
          "output_type": "display_data",
          "data": {
            "image/png": "[encoded data removed]",
            "text/plain": [
              "<Figure size 432x288 with 1 Axes>"
            ]
          },
          "metadata": {
            "needs_background": "light"
          }
        }
      ],
      "source": [
        "def costFun(theta,X,Y):\n",
        "    prediction = X.dot(theta)\n",
        "    J = np.square(np.sum(prediction-Y))\n",
        "    return J\n",
        "\n",
        "T = 1000\n",
        "alpha = 0.01/m\n",
        "theta = np.zeros([5,1])\n",
        "cost_history = np.zeros(T)\n",
        "sumation = 0\n",
        "for i in range(T):\n",
        "    sumation = 0\n",
        "    for j in range(m):\n",
        "        sumation = sumation + ((Y[j]-(theta.T.dot(X[j][:])))*X[j])    \n",
        "    GradientCost = sumation\n",
        "    theta = theta + alpha*GradientCost\n",
        "    value = costFun(theta,X,Y)\n",
        "    cost_history[i] = value\n",
        "\n",
        "print(\"Final Coefficients = \", theta[0])\n",
        "plt.plot(cost_history)"
      ]
    },
    {
      "cell_type": "code",
      "execution_count": 59,
      "id": "d6aae878",
      "metadata": {
        "colab": {
          "base_uri": "https://localhost:8080/",
          "height": 311
        },
        "id": "d6aae878",
        "outputId": "5377f6dc-5d99-428f-c7ed-e929430bde77"
      },
      "outputs": [
        {
          "output_type": "stream",
          "name": "stdout",
          "text": [
            "Final Coefficients =  [ 2.18355977  9.20997566  1.45341703  4.95092428 -8.83845736]\n"
          ]
        },
        {
          "output_type": "execute_result",
          "data": {
            "text/plain": [
              "[<matplotlib.lines.Line2D at 0x7fc059c515d0>]"
            ]
          },
          "metadata": {},
          "execution_count": 59
        },
        {
          "output_type": "display_data",
          "data": {
            "image/png": "[encoded data removed]",
            "text/plain": [
              "<Figure size 432x288 with 1 Axes>"
            ]
          },
          "metadata": {
            "needs_background": "light"
          }
        }
      ],
      "source": [
        "def costFun(theta,X,Y):\n",
        "    prediction = X.dot(theta)\n",
        "    J = np.square(np.sum(prediction-Y))\n",
        "    return J\n",
        "\n",
        "T = 1000\n",
        "alpha = 0.01\n",
        "cost_history = np.zeros(T)\n",
        "theta = np.zeros([5,1])\n",
        "for i in range(T):\n",
        "    ipend = np.random.randint(1,len(Y))\n",
        "    prediction = ((Y[ipend]-(theta.T.dot(X[ipend])))*X[ipend])\n",
        "    theta = theta + alpha*prediction\n",
        "    value = costFun(theta,X,Y)\n",
        "    cost_history[i] = value\n",
        "\n",
        "print(\"Final Coefficients = \", theta[0])\n",
        "plt.plot(cost_history)"
      ]
    },
    {
      "cell_type": "code",
      "execution_count": 58,
      "id": "6a98808b",
      "metadata": {
        "colab": {
          "base_uri": "https://localhost:8080/",
          "height": 311
        },
        "id": "6a98808b",
        "outputId": "95a7009c-1b3a-4521-dfee-6b9f6a4e76d4"
      },
      "outputs": [
        {
          "output_type": "stream",
          "name": "stdout",
          "text": [
            "Final Coefficients =  [ 2.29698763  6.27469791  2.08094962  2.82846292 -6.79497779]\n"
          ]
        },
        {
          "output_type": "execute_result",
          "data": {
            "text/plain": [
              "[<matplotlib.lines.Line2D at 0x7fc059ce3cd0>]"
            ]
          },
          "metadata": {},
          "execution_count": 58
        },
        {
          "output_type": "display_data",
          "data": {
            "image/png": "[encoded data removed]",
            "text/plain": [
              "<Figure size 432x288 with 1 Axes>"
            ]
          },
          "metadata": {
            "needs_background": "light"
          }
        }
      ],
      "source": [
        "def costFun(theta,X,Y):\n",
        "    prediction = X.dot(theta)\n",
        "    J = np.square(np.sum(prediction-Y))\n",
        "    return J\n",
        "\n",
        "T = 1000\n",
        "alpha = 0.001\n",
        "cost_history = np.zeros(T)\n",
        "theta = np.zeros([5,1])\n",
        "for i in range(T):\n",
        "    ipend = np.random.randint(1,len(Y))\n",
        "    prediction = ((Y[ipend]-(theta.T.dot(X[ipend])))*X[ipend])\n",
        "    theta = theta + alpha*prediction\n",
        "    value = costFun(theta,X,Y)\n",
        "    cost_history[i] = value\n",
        "\n",
        "print(\"Final Coefficients = \", theta[0])\n",
        "plt.plot(cost_history)"
      ]
    },
    {
      "cell_type": "code",
      "execution_count": null,
      "id": "c3e5929a",
      "metadata": {
        "id": "c3e5929a"
      },
      "outputs": [],
      "source": [
        ""
      ]
    }
  ],
  "metadata": {
    "kernelspec": {
      "display_name": "Python 3 (ipykernel)",
      "language": "python",
      "name": "python3"
    },
    "language_info": {
      "codemirror_mode": {
        "name": "ipython",
        "version": 3
      },
      "file_extension": ".py",
      "mimetype": "text/x-python",
      "name": "python",
      "nbconvert_exporter": "python",
      "pygments_lexer": "ipython3",
      "version": "3.9.7"
    },
    "colab": {
      "name": "Ex1_ML_2-Copy3.ipynb",
      "provenance": [],
      "collapsed_sections": []
    }
  },
  "nbformat": 4,
  "nbformat_minor": 5
}