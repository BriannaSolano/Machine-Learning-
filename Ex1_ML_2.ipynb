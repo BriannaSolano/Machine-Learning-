{
 "cells": [
  {
   "cell_type": "code",
   "execution_count": 54,
   "id": "03674dd4",
   "metadata": {},
   "outputs": [],
   "source": [
    "import numpy as np\n",
    "import pandas as pd\n",
    "import matplotlib.pyplot as plt"
   ]
  },
  {
   "cell_type": "code",
   "execution_count": 55,
   "id": "91c257c8",
   "metadata": {},
   "outputs": [],
   "source": [
    "df_data = pd.read_csv('exercise1_data.csv')"
   ]
  },
  {
   "cell_type": "code",
   "execution_count": 56,
   "id": "ba09fe2d",
   "metadata": {},
   "outputs": [],
   "source": [
    "X = df_data[['X1','X2','X3','X4']].to_numpy()\n",
    "Y = df_data['Y'].to_numpy()\n",
    "Y = np.expand_dims(Y,axis=1)"
   ]
  },
  {
   "cell_type": "code",
   "execution_count": 57,
   "id": "7e362e3e",
   "metadata": {},
   "outputs": [
    {
     "name": "stdout",
     "output_type": "stream",
     "text": [
      "The value of m is  1000\n"
     ]
    }
   ],
   "source": [
    "#a\n",
    "#What is the value of m?\n",
    "print(\"The value of m is \", X.shape[0])\n",
    "m = X.shape[0]\n",
    "#The value of m is 1000, therefore there are 1000 smaples"
   ]
  },
  {
   "cell_type": "code",
   "execution_count": 58,
   "id": "b6cd70c9",
   "metadata": {},
   "outputs": [
    {
     "name": "stdout",
     "output_type": "stream",
     "text": [
      "[[ 1.13628767  0.67075584 -0.31658534 -1.75585788]\n",
      " [ 1.85603065  1.93540733 -0.48997094 -0.38728799]\n",
      " [-0.85757989 -0.79313091 -1.29775941  1.47715056]\n",
      " ...\n",
      " [ 0.46581094  0.73576916 -0.29699876 -0.36531577]\n",
      " [-0.12599579  2.23115351  0.27964412 -0.65317185]\n",
      " [-1.26156445  0.84245211 -0.08320848  0.01189734]]\n"
     ]
    }
   ],
   "source": [
    "print(X)"
   ]
  },
  {
   "cell_type": "code",
   "execution_count": 59,
   "id": "fd68829c",
   "metadata": {},
   "outputs": [
    {
     "name": "stdout",
     "output_type": "stream",
     "text": [
      "[[ 1.          1.13628767  0.67075584 -0.31658534 -1.75585788]\n",
      " [ 1.          1.85603065  1.93540733 -0.48997094 -0.38728799]\n",
      " [ 1.         -0.85757989 -0.79313091 -1.29775941  1.47715056]\n",
      " ...\n",
      " [ 1.          0.46581094  0.73576916 -0.29699876 -0.36531577]\n",
      " [ 1.         -0.12599579  2.23115351  0.27964412 -0.65317185]\n",
      " [ 1.         -1.26156445  0.84245211 -0.08320848  0.01189734]]\n"
     ]
    }
   ],
   "source": [
    "#a\n",
    "#Append the input data matrix to include an all-one column. Explain why this is necessary.\n",
    "ones = np.ones((1000, 1))\n",
    "X = np.concatenate((ones, X), axis=1)\n",
    "print(X)\n",
    "#Explain-----------------"
   ]
  },
  {
   "cell_type": "code",
   "execution_count": 62,
   "id": "9669d671",
   "metadata": {},
   "outputs": [],
   "source": [
    "T = 1000\n",
    "alpha = 0.1/m\n",
    "for i in range(m):\n",
    "    i\n"
   ]
  },
  {
   "cell_type": "code",
   "execution_count": null,
   "id": "cafd469a",
   "metadata": {},
   "outputs": [],
   "source": []
  },
  {
   "cell_type": "code",
   "execution_count": null,
   "id": "9f68d964",
   "metadata": {},
   "outputs": [],
   "source": []
  }
 ],
 "metadata": {
  "kernelspec": {
   "display_name": "Python 3 (ipykernel)",
   "language": "python",
   "name": "python3"
  },
  "language_info": {
   "codemirror_mode": {
    "name": "ipython",
    "version": 3
   },
   "file_extension": ".py",
   "mimetype": "text/x-python",
   "name": "python",
   "nbconvert_exporter": "python",
   "pygments_lexer": "ipython3",
   "version": "3.9.7"
  }
 },
 "nbformat": 4,
 "nbformat_minor": 5
}
